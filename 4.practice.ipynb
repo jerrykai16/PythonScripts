{
 "cells": [
  {
   "cell_type": "markdown",
   "metadata": {},
   "source": [
    "# 作業: 資料讀寫與繪製圖表"
   ]
  },
  {
   "cell_type": "markdown",
   "metadata": {},
   "source": [
    "依照以下步驟完成作業:\n",
    "1. 請讀取 data.csv 檔案中的 x, y 資料並用 matplotlib 畫出資料散佈圖 (使用 scatter 函數)，資料點請用紅色叉叉\n",
    "2. 將 data.csv 中的 x資料帶入 0.6x+2，得到另一組 y 的資料，利用這組新的 xy 資料在同一張圖上畫出線 (使用 plot 函數)，線條請用藍色\n",
    "3. 將新產生的xy資料儲存到新的檔案，檔名叫做 \"data_new.csv\""
   ]
  },
  {
   "cell_type": "code",
   "execution_count": null,
   "metadata": {
    "vscode": {
     "languageId": "plaintext"
    }
   },
   "outputs": [],
   "source": []
  }
 ],
 "metadata": {
  "language_info": {
   "name": "python"
  }
 },
 "nbformat": 4,
 "nbformat_minor": 2
}
