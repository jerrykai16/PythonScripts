{
 "cells": [
  {
   "cell_type": "markdown",
   "metadata": {},
   "source": [
    "# 作業: 資料讀寫與繪製圖表"
   ]
  },
  {
   "cell_type": "markdown",
   "metadata": {},
   "source": [
    "依照以下步驟完成作業:\n",
    "1. 請讀取 data.csv 檔案中的 x, y 資料並用 matplotlib 畫出資料散佈圖 (使用 scatter 函數)，資料點請用紅色叉叉\n",
    "2. 將 data.csv 中的 x資料帶入 0.6x+2，得到另一組 y 的資料，利用這組新的 xy 資料在同一張圖上畫出線 (使用 plot 函數)，線條請用藍色\n",
    "3. 將新產生的xy資料儲存到新的檔案，檔名叫做 \"data_new.csv\""
   ]
  },
  {
   "cell_type": "code",
   "execution_count": 22,
   "metadata": {},
   "outputs": [
    {
     "ename": "IndexError",
     "evalue": "arrays used as indices must be of integer (or boolean) type",
     "output_type": "error",
     "traceback": [
      "\u001b[1;31m---------------------------------------------------------------------------\u001b[0m",
      "\u001b[1;31mIndexError\u001b[0m                                Traceback (most recent call last)",
      "Cell \u001b[1;32mIn[22], line 10\u001b[0m\n\u001b[0;32m      8\u001b[0m x \u001b[38;5;241m=\u001b[39m []\n\u001b[0;32m      9\u001b[0m \u001b[38;5;28;01mfor\u001b[39;00m i \u001b[38;5;129;01min\u001b[39;00m data:\n\u001b[1;32m---> 10\u001b[0m     x\u001b[38;5;241m.\u001b[39mappend(data[\u001b[38;5;241m0\u001b[39m][i])\n\u001b[0;32m     12\u001b[0m \u001b[38;5;66;03m#plt.scatter(,marker='x',color = 'r')\u001b[39;00m\n\u001b[0;32m     13\u001b[0m plt\u001b[38;5;241m.\u001b[39mshow()\n",
      "\u001b[1;31mIndexError\u001b[0m: arrays used as indices must be of integer (or boolean) type"
     ]
    }
   ],
   "source": [
    "import numpy as np\n",
    "import pandas as pd\n",
    "import matplotlib.pyplot as plt\n",
    "\n",
    "data = np.genfromtxt('example.csv',delimiter=',',dtype=str)\n",
    "data = data.astype(np.float32)\n",
    "\n",
    "x = []\n",
    "for i in data:\n",
    "    x.append(data[0][i])\n",
    "    \n",
    "#plt.scatter(,marker='x',color = 'r')\n",
    "plt.show()"
   ]
  }
 ],
 "metadata": {
  "kernelspec": {
   "display_name": "base",
   "language": "python",
   "name": "python3"
  },
  "language_info": {
   "codemirror_mode": {
    "name": "ipython",
    "version": 3
   },
   "file_extension": ".py",
   "mimetype": "text/x-python",
   "name": "python",
   "nbconvert_exporter": "python",
   "pygments_lexer": "ipython3",
   "version": "3.11.4"
  }
 },
 "nbformat": 4,
 "nbformat_minor": 2
}
